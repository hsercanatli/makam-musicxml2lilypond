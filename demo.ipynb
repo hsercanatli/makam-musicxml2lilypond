{
 "cells": [
  {
   "cell_type": "code",
   "execution_count": 1,
   "metadata": {
    "collapsed": false
   },
   "outputs": [],
   "source": [
    "from musicxml2lilypond.musicxml2lilypond import ScoreConverter\n",
    "import os"
   ]
  },
  {
   "cell_type": "code",
   "execution_count": 2,
   "metadata": {
    "collapsed": true
   },
   "outputs": [],
   "source": [
    "# input MusicXML file\n",
    "xml_file = \"samplescores/pesendide--sazsemaisi--aksaksemai----iii_selim.xml\"\n",
    "\n",
    "# output lilypond file\n",
    "ly_file = \"samplescores/pesendide--sazsemaisi--aksaksemai----iii_selim.ly\"\n",
    "\n",
    "# output json file storing the mappings beteen ly and musicxml files.\n",
    "map_file = \"samplescores/pesendide--sazsemaisi--aksaksemai----iii_selim.json\"\n",
    "\n",
    "# instantiate\n",
    "converter = ScoreConverter()\n"
   ]
  },
  {
   "cell_type": "code",
   "execution_count": 3,
   "metadata": {
    "collapsed": true
   },
   "outputs": [],
   "source": [
    "# run...\n",
    "ly_stream, mapping = converter.run(xml_file, ly_out=ly_file, map_out=map_file,\n",
    "                                  render_metadata=False)\n"
   ]
  }
 ],
 "metadata": {
  "kernelspec": {
   "display_name": "Python 2",
   "language": "python",
   "name": "python2"
  },
  "language_info": {
   "codemirror_mode": {
    "name": "ipython",
    "version": 2
   },
   "file_extension": ".py",
   "mimetype": "text/x-python",
   "name": "python",
   "nbconvert_exporter": "python",
   "pygments_lexer": "ipython2",
   "version": "2.7.6"
  }
 },
 "nbformat": 4,
 "nbformat_minor": 0
}
